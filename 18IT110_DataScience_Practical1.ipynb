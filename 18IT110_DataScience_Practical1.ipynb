{
  "nbformat": 4,
  "nbformat_minor": 0,
  "metadata": {
    "colab": {
      "name": "18IT110_DataScience_Practical1.ipynb",
      "provenance": []
    },
    "kernelspec": {
      "name": "python3",
      "display_name": "Python 3"
    },
    "language_info": {
      "name": "python"
    }
  },
  "cells": [
    {
      "cell_type": "code",
      "metadata": {
        "colab": {
          "base_uri": "https://localhost:8080/"
        },
        "id": "QRGaCPkrs93I",
        "outputId": "4fbe89fa-36c7-4392-f4f5-0ed8e77cee16"
      },
      "source": [
        "pip install selenium"
      ],
      "execution_count": 8,
      "outputs": [
        {
          "output_type": "stream",
          "text": [
            "Requirement already satisfied: selenium in /usr/local/lib/python3.7/dist-packages (3.141.0)\n",
            "Requirement already satisfied: urllib3 in /usr/local/lib/python3.7/dist-packages (from selenium) (1.24.3)\n"
          ],
          "name": "stdout"
        }
      ]
    },
    {
      "cell_type": "code",
      "metadata": {
        "colab": {
          "base_uri": "https://localhost:8080/"
        },
        "id": "D0QMEKsZtTD_",
        "outputId": "201fe78f-b5b4-4b19-dcb1-eb6fc16a7044"
      },
      "source": [
        "pip install beautifulsoup4"
      ],
      "execution_count": 9,
      "outputs": [
        {
          "output_type": "stream",
          "text": [
            "Requirement already satisfied: beautifulsoup4 in /usr/local/lib/python3.7/dist-packages (4.6.3)\n"
          ],
          "name": "stdout"
        }
      ]
    },
    {
      "cell_type": "code",
      "metadata": {
        "id": "k6Cc97qvtWM0"
      },
      "source": [
        "from selenium import webdriver\n",
        "from bs4 import BeautifulSoup\n",
        "import pandas as pd"
      ],
      "execution_count": 10,
      "outputs": []
    },
    {
      "cell_type": "code",
      "metadata": {
        "id": "Kxo-DdMcfip2"
      },
      "source": [
        "import requests\n",
        "url=\"https://www.flipkart.com/search?q=laptop&sid=6bo%2Cb5g&as=on&as-show=on&otracker=AS_QueryStore_OrganicAutoSuggest_1_6_na_na_na&otracker1=AS_QueryStore_OrganicAutoSuggest_1_6_na_na_na&as-pos=1&as-type=RECENT&suggestionId=laptop%7CLaptops&requestId=7ec220e8-4f02-4150-9e0b-9e90cf692f4b&as-searchtext=laptop\"\n",
        "response = requests.get(url)\n",
        "htmlcontent = response.content\n",
        "soup = BeautifulSoup(htmlcontent,\"html.parser\")\n",
        "#print(soup.prettify)"
      ],
      "execution_count": 11,
      "outputs": []
    },
    {
      "cell_type": "code",
      "metadata": {
        "colab": {
          "base_uri": "https://localhost:8080/"
        },
        "id": "BKoQjXMhfo1I",
        "outputId": "b87c970c-00d5-476f-865b-a820244ab907"
      },
      "source": [
        "products=[]\n",
        "prices=[]\n",
        "product=soup.find('div',attrs={'class':'_4rR01T'})\n",
        "print(product.text)"
      ],
      "execution_count": 12,
      "outputs": [
        {
          "output_type": "stream",
          "text": [
            "DELL Vostro Ryzen 5 Hexa Core 5500U - (8 GB/512 GB SSD/Windows 10) Vostro 5415 Thin and Light Laptop\n"
          ],
          "name": "stdout"
        }
      ]
    },
    {
      "cell_type": "code",
      "metadata": {
        "id": "MjStEPuqfyYx"
      },
      "source": [
        "for a in soup.findAll('a',href=True, attrs={'class':'_1fQZEK'}):\n",
        "  name=a.find('div',attrs={'class':'_4rR01T'})\n",
        "  price=a.find('div',attrs={'class':'_30jeq3 _1_WHN1'})\n",
        "  products.append(name.text)\n",
        "  prices.append(price.text)"
      ],
      "execution_count": 13,
      "outputs": []
    },
    {
      "cell_type": "code",
      "metadata": {
        "id": "lozbVY0sf2TV"
      },
      "source": [
        "df = pd.DataFrame({'Product Name':products,'Price':prices}) \n",
        "df.to_csv('18IT110_Practical-1.csv', index=False, encoding='utf-8')"
      ],
      "execution_count": 14,
      "outputs": []
    }
  ]
}